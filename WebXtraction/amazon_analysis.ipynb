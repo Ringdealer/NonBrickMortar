{
 "cells": [
  {
   "cell_type": "code",
   "execution_count": 18,
   "metadata": {},
   "outputs": [],
   "source": [
    "import pandas as pd\n",
    "import numpy as np\n",
    "import matplotlib.pyplot as plt\n",
    "import re\n",
    "import matplotlib.pyplot as plt\n",
    "import json\n"
   ]
  },
  {
   "cell_type": "code",
   "execution_count": 2,
   "metadata": {},
   "outputs": [
    {
     "data": {
      "text/plain": [
       "'C:\\\\Users\\\\Loverboy\\\\PycharmProjects\\\\OnlineStoreScraping\\\\WebXtraction'"
      ]
     },
     "execution_count": 2,
     "metadata": {},
     "output_type": "execute_result"
    }
   ],
   "source": [
    "import os\n",
    "os.getcwd()"
   ]
  },
  {
   "cell_type": "code",
   "execution_count": 39,
   "metadata": {},
   "outputs": [],
   "source": [
    "with open(\"items.json\") as df:\n",
    "    data = json.load(df)\n",
    "df = pd.DataFrame(data)"
   ]
  },
  {
   "cell_type": "code",
   "execution_count": 4,
   "metadata": {},
   "outputs": [],
   "source": [
    "pd.set_option('display.max_rows', None)\n",
    "pd.set_option('display.max_columns', None)\n",
    "pd.set_option('display.width', None)\n",
    "pd.set_option('display.max_colwidth', None)"
   ]
  },
  {
   "cell_type": "code",
   "execution_count": 20,
   "metadata": {},
   "outputs": [
    {
     "data": {
      "text/plain": [
       "Index(['title', 'stars', 'price', 'imglink', 'imgname'], dtype='object')"
      ]
     },
     "execution_count": 20,
     "metadata": {},
     "output_type": "execute_result"
    }
   ],
   "source": [
    "df.columns"
   ]
  },
  {
   "cell_type": "code",
   "execution_count": 40,
   "metadata": {},
   "outputs": [],
   "source": [
    "df.columns=['Product','Evaluation','Price','Image Link', 'Image Tag']"
   ]
  },
  {
   "cell_type": "code",
   "execution_count": 41,
   "metadata": {},
   "outputs": [],
   "source": [
    "amadf = df.copy()"
   ]
  },
  {
   "cell_type": "code",
   "execution_count": 43,
   "metadata": {},
   "outputs": [],
   "source": [
    "def convert_to_dataframe(df, col):\n",
    "    i=0\n",
    "    for word in df[col][i]:\n",
    "        df.loc[i, col] = word\n",
    "        i += 1"
   ]
  },
  {
   "cell_type": "code",
   "execution_count": 55,
   "metadata": {},
   "outputs": [],
   "source": [
    "def convert_to_dataframe2(df, col):\n",
    "    i=0\n",
    "    for word in df[col][0][i]:\n",
    "        df.loc[i, col] = word\n",
    "        i += 1"
   ]
  },
  {
   "cell_type": "code",
   "execution_count": 44,
   "metadata": {},
   "outputs": [],
   "source": [
    "convert_to_dataframe(amadf, 'Product')"
   ]
  },
  {
   "cell_type": "code",
   "execution_count": 56,
   "metadata": {},
   "outputs": [],
   "source": [
    "convert_to_dataframe(amadf, 'Evaluation')"
   ]
  },
  {
   "cell_type": "code",
   "execution_count": 49,
   "metadata": {},
   "outputs": [],
   "source": [
    "convert_to_dataframe(amadf, 'Price')"
   ]
  },
  {
   "cell_type": "code",
   "execution_count": 46,
   "metadata": {},
   "outputs": [],
   "source": [
    "convert_to_dataframe(amadf, 'Image Link')"
   ]
  },
  {
   "cell_type": "code",
   "execution_count": 47,
   "metadata": {},
   "outputs": [],
   "source": [
    "convert_to_dataframe(amadf, 'Image Tag')"
   ]
  },
  {
   "cell_type": "code",
   "execution_count": 54,
   "metadata": {},
   "outputs": [
    {
     "data": {
      "text/plain": [
       "'4.4 out of 5 stars'"
      ]
     },
     "execution_count": 54,
     "metadata": {},
     "output_type": "execute_result"
    }
   ],
   "source": [
    "df['Evaluation'][0][1]"
   ]
  },
  {
   "cell_type": "code",
   "execution_count": 57,
   "metadata": {},
   "outputs": [
    {
     "data": {
      "text/html": [
       "<div>\n",
       "<style scoped>\n",
       "    .dataframe tbody tr th:only-of-type {\n",
       "        vertical-align: middle;\n",
       "    }\n",
       "\n",
       "    .dataframe tbody tr th {\n",
       "        vertical-align: top;\n",
       "    }\n",
       "\n",
       "    .dataframe thead th {\n",
       "        text-align: right;\n",
       "    }\n",
       "</style>\n",
       "<table border=\"1\" class=\"dataframe\">\n",
       "  <thead>\n",
       "    <tr style=\"text-align: right;\">\n",
       "      <th></th>\n",
       "      <th>Product</th>\n",
       "      <th>Evaluation</th>\n",
       "      <th>Price</th>\n",
       "      <th>Image Link</th>\n",
       "      <th>Image Tag</th>\n",
       "    </tr>\n",
       "  </thead>\n",
       "  <tbody>\n",
       "    <tr>\n",
       "      <th>0</th>\n",
       "      <td>Vogek Earbuds, Tangle-Free Flat Cord Ergonomic in-Ear Headphones with Dynamic Crystal Clear Sound, Earphones with 3.5mm Jack, S/M/L Eartips Compatible with Samsung, Android Phone and More-Black</td>\n",
       "      <td>4.3 out of 5 stars</td>\n",
       "      <td>8</td>\n",
       "      <td>https://m.media-amazon.com/images/I/51JbmthRndL._AC_UL320_.jpg</td>\n",
       "      <td>JbmthRndL</td>\n",
       "    </tr>\n",
       "    <tr>\n",
       "      <th>1</th>\n",
       "      <td>Panasonic ErgoFit In-Ear Earbud Headphones RP-HJE120K Dynamic Crystal-Clear Sound, Ergonomic Comfort-Fit, 9mm, Black</td>\n",
       "      <td>4.4 out of 5 stars</td>\n",
       "      <td>22</td>\n",
       "      <td>https://m.media-amazon.com/images/I/61aG9au0E4L._AC_UL320_.jpg</td>\n",
       "      <td>aG9au0E4L</td>\n",
       "    </tr>\n",
       "    <tr>\n",
       "      <th>2</th>\n",
       "      <td>Apple EarPods with Lightning Connector - White</td>\n",
       "      <td>4.2 out of 5 stars</td>\n",
       "      <td>14</td>\n",
       "      <td>https://m.media-amazon.com/images/I/619qyGXIDgL._AC_UL320_.jpg</td>\n",
       "      <td>9qyGXIDgL</td>\n",
       "    </tr>\n",
       "    <tr>\n",
       "      <th>3</th>\n",
       "      <td>Earbuds Headphones with Microphone 5 Pack,Earbuds Wired Stereo Earphones in-Ear Headphones Bass Earbuds, Compatible with iPhone and Android Smartphones,iPod,iPad, MP3 Players,Fits All 3.5mm Interface</td>\n",
       "      <td>4.4 out of 5 stars</td>\n",
       "      <td>29</td>\n",
       "      <td>https://m.media-amazon.com/images/I/719IHpMUMvL._AC_UL320_.jpg</td>\n",
       "      <td>9IHpMUMvL</td>\n",
       "    </tr>\n",
       "    <tr>\n",
       "      <th>4</th>\n",
       "      <td>Mpow Flame Bluetooth Headphones V5.0 IPX7 Waterproof Wireless headphones, Bass+ HD Stereo Wireless Sport Earbuds, 7-9Hrs Playtime, cVc6.0 Noise Cancelling Mic for Home Workout, Running, Gym Red</td>\n",
       "      <td>4.2 out of 5 stars</td>\n",
       "      <td>15</td>\n",
       "      <td>https://m.media-amazon.com/images/I/61Fj-z0jWoL._AC_UL320_.jpg</td>\n",
       "      <td>Fj-z0jWoL</td>\n",
       "    </tr>\n",
       "    <tr>\n",
       "      <th>5</th>\n",
       "      <td>SIKAMARU Headphone Heavy Bass Stereo Earphones Earbuds with Remote &amp; Microphon,Laptops,Gaming Noise Isolating Tangle Free Headsets in Ear Headphones 4 Pairs</td>\n",
       "      <td>4.3 out of 5 stars</td>\n",
       "      <td>8</td>\n",
       "      <td>https://m.media-amazon.com/images/I/51JbmthRndL._AC_UY218_.jpg</td>\n",
       "      <td>JbmthRndL</td>\n",
       "    </tr>\n",
       "    <tr>\n",
       "      <th>6</th>\n",
       "      <td>Heavy bass Earphone Color Call with Mic Stereo Earbud Headphones Mixed Colors (Black + White + Pink + Green 4 Pairs)</td>\n",
       "      <td>4.2 out of 5 stars</td>\n",
       "      <td>8</td>\n",
       "      <td>https://m.media-amazon.com/images/I/617O4vOhUSL._AC_UY218_.jpg</td>\n",
       "      <td>7O4vOhUSL</td>\n",
       "    </tr>\n",
       "    <tr>\n",
       "      <th>7</th>\n",
       "      <td>Wired Headphones, Amoner Earbuds Waterproof Sports Earphones, Stereo Sound Headphones in-Ear Earbuds with Mic for Phone 6/6s Plus/5s/SE, Galaxy, Android Smartphones, Tablets</td>\n",
       "      <td>4.4 out of 5 stars</td>\n",
       "      <td>17</td>\n",
       "      <td>https://m.media-amazon.com/images/I/41wYbyr3LLL._AC_UY218_.jpg</td>\n",
       "      <td>wYbyr3LLL</td>\n",
       "    </tr>\n",
       "    <tr>\n",
       "      <th>8</th>\n",
       "      <td>LETSCOM Bluetooth Headphones IPX7 Waterproof, Wireless Sport Earphones, HiFi Bass Stereo Sweatproof Earbuds w/Mic, Noise Cancelling Headset for Workout, Running, Gym, 8 Hours Play Time</td>\n",
       "      <td>4.7 out of 5 stars</td>\n",
       "      <td>15</td>\n",
       "      <td>https://m.media-amazon.com/images/I/61b1oF4bB2L._AC_UY218_.jpg</td>\n",
       "      <td>b1oF4bB2L</td>\n",
       "    </tr>\n",
       "    <tr>\n",
       "      <th>9</th>\n",
       "      <td>Powerbeats Pro Wireless Earphones - Apple H1 Headphone Chip, Class 1 Bluetooth, 9 Hours Of Listening Time, Sweat Resistant Earbuds - Black</td>\n",
       "      <td>4.4 out of 5 stars</td>\n",
       "      <td>16</td>\n",
       "      <td>https://m.media-amazon.com/images/I/61GIxxfDvKL._AC_UY218_.jpg</td>\n",
       "      <td>GIxxfDvKL</td>\n",
       "    </tr>\n",
       "    <tr>\n",
       "      <th>10</th>\n",
       "      <td>Avantree E171 Sports Earbuds Wired with Microphone, Sweatproof Wrap Around Earphones with Over Ear Hook, in Ear Running Headphones for Workout Exercise Gym Compatible with iPhone, Cell Phones</td>\n",
       "      <td>3.9 out of 5 stars</td>\n",
       "      <td>10</td>\n",
       "      <td>https://m.media-amazon.com/images/I/61Bn0QszaDL._AC_UY218_.jpg</td>\n",
       "      <td>Bn0QszaDL</td>\n",
       "    </tr>\n",
       "    <tr>\n",
       "      <th>11</th>\n",
       "      <td>Purity True Wireless Earbuds with Immersive Sound, Bluetooth 5.0 Earphones in-Ear with Charging Case Easy-Pairing Stereo Calls/Built-in Microphones/IPX5 Sweatproof/Pumping Bass for Sports,Workout,Gym</td>\n",
       "      <td>4.1 out of 5 stars</td>\n",
       "      <td>13</td>\n",
       "      <td>https://m.media-amazon.com/images/I/71SUPVr9FWL._AC_UY218_.jpg</td>\n",
       "      <td>SUPVr9FWL</td>\n",
       "    </tr>\n",
       "    <tr>\n",
       "      <th>12</th>\n",
       "      <td>TOZO T6 True Wireless Earbuds Bluetooth Headphones Touch Control with Wireless Charging Case IPX8 Waterproof TWS Stereo Earphones in-Ear Built-in Mic Headset Premium Deep Bass for Sport Black</td>\n",
       "      <td>4.8 out of 5 stars</td>\n",
       "      <td>12</td>\n",
       "      <td>https://m.media-amazon.com/images/I/517JcY8iLqL._AC_UY218_.jpg</td>\n",
       "      <td>7JcY8iLqL</td>\n",
       "    </tr>\n",
       "    <tr>\n",
       "      <th>13</th>\n",
       "      <td>LETSCOM Bluetooth Headphones, 100 Hours Playtime Bluetooth 5.0 Headphones Over Ear with Deep Bass, Hi-Fi Sound and Soft Earpads, Built-in Mic, Wired/Wireless Headset for Home Office-Black</td>\n",
       "      <td>4.4 out of 5 stars</td>\n",
       "      <td>16</td>\n",
       "      <td>https://m.media-amazon.com/images/I/61aR3j84hAL._AC_UY218_.jpg</td>\n",
       "      <td>aR3j84hAL</td>\n",
       "    </tr>\n",
       "    <tr>\n",
       "      <th>14</th>\n",
       "      <td>(2 Pack) Wired Earphones Stereo Sound in-Ear Earbuds with 3.5mm Headphones Plug Microphone Volume Control for Sports Workout Compatible with Cell Phones Tablets Laptops</td>\n",
       "      <td>4.4 out of 5 stars</td>\n",
       "      <td>199</td>\n",
       "      <td>https://m.media-amazon.com/images/I/61xiWvwJnpL._AC_UY218_.jpg</td>\n",
       "      <td>xiWvwJnpL</td>\n",
       "    </tr>\n",
       "    <tr>\n",
       "      <th>15</th>\n",
       "      <td>Urbeats3 Wired Earphones With 3.5mm Plug - Tangle Free Cable, Magnetic Earbuds, Built In Mic And Controls - Black</td>\n",
       "      <td>4.3 out of 5 stars</td>\n",
       "      <td>16</td>\n",
       "      <td>https://m.media-amazon.com/images/I/51JB7he3yZL._AC_UY218_.jpg</td>\n",
       "      <td>JB7he3yZL</td>\n",
       "    </tr>\n",
       "    <tr>\n",
       "      <th>16</th>\n",
       "      <td>NaN</td>\n",
       "      <td>4.4 out of 5 stars</td>\n",
       "      <td>32</td>\n",
       "      <td>https://m.media-amazon.com/images/I/512p-pc+QAL._AC_UY218_.jpg</td>\n",
       "      <td>2p-pc+QAL</td>\n",
       "    </tr>\n",
       "    <tr>\n",
       "      <th>17</th>\n",
       "      <td>NaN</td>\n",
       "      <td>4.5 out of 5 stars</td>\n",
       "      <td>42</td>\n",
       "      <td>https://m.media-amazon.com/images/I/71CH1MwvxyL._AC_UY218_.jpg</td>\n",
       "      <td>CH1MwvxyL</td>\n",
       "    </tr>\n",
       "    <tr>\n",
       "      <th>18</th>\n",
       "      <td>NaN</td>\n",
       "      <td>4.4 out of 5 stars</td>\n",
       "      <td>25</td>\n",
       "      <td>https://m.media-amazon.com/images/I/61PE8tpvXhL._AC_UY218_.jpg</td>\n",
       "      <td>PE8tpvXhL</td>\n",
       "    </tr>\n",
       "    <tr>\n",
       "      <th>19</th>\n",
       "      <td>NaN</td>\n",
       "      <td>4.3 out of 5 stars</td>\n",
       "      <td>11</td>\n",
       "      <td>https://m.media-amazon.com/images/I/61+P0iEW26L._AC_UY218_.jpg</td>\n",
       "      <td>+P0iEW26L</td>\n",
       "    </tr>\n",
       "    <tr>\n",
       "      <th>20</th>\n",
       "      <td>NaN</td>\n",
       "      <td>4.4 out of 5 stars</td>\n",
       "      <td>59</td>\n",
       "      <td>https://m.media-amazon.com/images/I/411fmnSmNuL._AC_UY218_.jpg</td>\n",
       "      <td>1fmnSmNuL</td>\n",
       "    </tr>\n",
       "  </tbody>\n",
       "</table>\n",
       "</div>"
      ],
      "text/plain": [
       "                                                                                                                                                                                                    Product  \\\n",
       "0         Vogek Earbuds, Tangle-Free Flat Cord Ergonomic in-Ear Headphones with Dynamic Crystal Clear Sound, Earphones with 3.5mm Jack, S/M/L Eartips Compatible with Samsung, Android Phone and More-Black   \n",
       "1                                                                                      Panasonic ErgoFit In-Ear Earbud Headphones RP-HJE120K Dynamic Crystal-Clear Sound, Ergonomic Comfort-Fit, 9mm, Black   \n",
       "2                                                                                                                                                            Apple EarPods with Lightning Connector - White   \n",
       "3   Earbuds Headphones with Microphone 5 Pack,Earbuds Wired Stereo Earphones in-Ear Headphones Bass Earbuds, Compatible with iPhone and Android Smartphones,iPod,iPad, MP3 Players,Fits All 3.5mm Interface   \n",
       "4         Mpow Flame Bluetooth Headphones V5.0 IPX7 Waterproof Wireless headphones, Bass+ HD Stereo Wireless Sport Earbuds, 7-9Hrs Playtime, cVc6.0 Noise Cancelling Mic for Home Workout, Running, Gym Red   \n",
       "5                                              SIKAMARU Headphone Heavy Bass Stereo Earphones Earbuds with Remote & Microphon,Laptops,Gaming Noise Isolating Tangle Free Headsets in Ear Headphones 4 Pairs   \n",
       "6                                                                                      Heavy bass Earphone Color Call with Mic Stereo Earbud Headphones Mixed Colors (Black + White + Pink + Green 4 Pairs)   \n",
       "7                             Wired Headphones, Amoner Earbuds Waterproof Sports Earphones, Stereo Sound Headphones in-Ear Earbuds with Mic for Phone 6/6s Plus/5s/SE, Galaxy, Android Smartphones, Tablets   \n",
       "8                  LETSCOM Bluetooth Headphones IPX7 Waterproof, Wireless Sport Earphones, HiFi Bass Stereo Sweatproof Earbuds w/Mic, Noise Cancelling Headset for Workout, Running, Gym, 8 Hours Play Time   \n",
       "9                                                                Powerbeats Pro Wireless Earphones - Apple H1 Headphone Chip, Class 1 Bluetooth, 9 Hours Of Listening Time, Sweat Resistant Earbuds - Black   \n",
       "10          Avantree E171 Sports Earbuds Wired with Microphone, Sweatproof Wrap Around Earphones with Over Ear Hook, in Ear Running Headphones for Workout Exercise Gym Compatible with iPhone, Cell Phones   \n",
       "11  Purity True Wireless Earbuds with Immersive Sound, Bluetooth 5.0 Earphones in-Ear with Charging Case Easy-Pairing Stereo Calls/Built-in Microphones/IPX5 Sweatproof/Pumping Bass for Sports,Workout,Gym   \n",
       "12          TOZO T6 True Wireless Earbuds Bluetooth Headphones Touch Control with Wireless Charging Case IPX8 Waterproof TWS Stereo Earphones in-Ear Built-in Mic Headset Premium Deep Bass for Sport Black   \n",
       "13              LETSCOM Bluetooth Headphones, 100 Hours Playtime Bluetooth 5.0 Headphones Over Ear with Deep Bass, Hi-Fi Sound and Soft Earpads, Built-in Mic, Wired/Wireless Headset for Home Office-Black   \n",
       "14                                 (2 Pack) Wired Earphones Stereo Sound in-Ear Earbuds with 3.5mm Headphones Plug Microphone Volume Control for Sports Workout Compatible with Cell Phones Tablets Laptops   \n",
       "15                                                                                        Urbeats3 Wired Earphones With 3.5mm Plug - Tangle Free Cable, Magnetic Earbuds, Built In Mic And Controls - Black   \n",
       "16                                                                                                                                                                                                      NaN   \n",
       "17                                                                                                                                                                                                      NaN   \n",
       "18                                                                                                                                                                                                      NaN   \n",
       "19                                                                                                                                                                                                      NaN   \n",
       "20                                                                                                                                                                                                      NaN   \n",
       "\n",
       "            Evaluation Price  \\\n",
       "0   4.3 out of 5 stars     8   \n",
       "1   4.4 out of 5 stars    22   \n",
       "2   4.2 out of 5 stars    14   \n",
       "3   4.4 out of 5 stars    29   \n",
       "4   4.2 out of 5 stars    15   \n",
       "5   4.3 out of 5 stars     8   \n",
       "6   4.2 out of 5 stars     8   \n",
       "7   4.4 out of 5 stars    17   \n",
       "8   4.7 out of 5 stars    15   \n",
       "9   4.4 out of 5 stars    16   \n",
       "10  3.9 out of 5 stars    10   \n",
       "11  4.1 out of 5 stars    13   \n",
       "12  4.8 out of 5 stars    12   \n",
       "13  4.4 out of 5 stars    16   \n",
       "14  4.4 out of 5 stars   199   \n",
       "15  4.3 out of 5 stars    16   \n",
       "16  4.4 out of 5 stars    32   \n",
       "17  4.5 out of 5 stars    42   \n",
       "18  4.4 out of 5 stars    25   \n",
       "19  4.3 out of 5 stars    11   \n",
       "20  4.4 out of 5 stars    59   \n",
       "\n",
       "                                                        Image Link  Image Tag  \n",
       "0   https://m.media-amazon.com/images/I/51JbmthRndL._AC_UL320_.jpg  JbmthRndL  \n",
       "1   https://m.media-amazon.com/images/I/61aG9au0E4L._AC_UL320_.jpg  aG9au0E4L  \n",
       "2   https://m.media-amazon.com/images/I/619qyGXIDgL._AC_UL320_.jpg  9qyGXIDgL  \n",
       "3   https://m.media-amazon.com/images/I/719IHpMUMvL._AC_UL320_.jpg  9IHpMUMvL  \n",
       "4   https://m.media-amazon.com/images/I/61Fj-z0jWoL._AC_UL320_.jpg  Fj-z0jWoL  \n",
       "5   https://m.media-amazon.com/images/I/51JbmthRndL._AC_UY218_.jpg  JbmthRndL  \n",
       "6   https://m.media-amazon.com/images/I/617O4vOhUSL._AC_UY218_.jpg  7O4vOhUSL  \n",
       "7   https://m.media-amazon.com/images/I/41wYbyr3LLL._AC_UY218_.jpg  wYbyr3LLL  \n",
       "8   https://m.media-amazon.com/images/I/61b1oF4bB2L._AC_UY218_.jpg  b1oF4bB2L  \n",
       "9   https://m.media-amazon.com/images/I/61GIxxfDvKL._AC_UY218_.jpg  GIxxfDvKL  \n",
       "10  https://m.media-amazon.com/images/I/61Bn0QszaDL._AC_UY218_.jpg  Bn0QszaDL  \n",
       "11  https://m.media-amazon.com/images/I/71SUPVr9FWL._AC_UY218_.jpg  SUPVr9FWL  \n",
       "12  https://m.media-amazon.com/images/I/517JcY8iLqL._AC_UY218_.jpg  7JcY8iLqL  \n",
       "13  https://m.media-amazon.com/images/I/61aR3j84hAL._AC_UY218_.jpg  aR3j84hAL  \n",
       "14  https://m.media-amazon.com/images/I/61xiWvwJnpL._AC_UY218_.jpg  xiWvwJnpL  \n",
       "15  https://m.media-amazon.com/images/I/51JB7he3yZL._AC_UY218_.jpg  JB7he3yZL  \n",
       "16  https://m.media-amazon.com/images/I/512p-pc+QAL._AC_UY218_.jpg  2p-pc+QAL  \n",
       "17  https://m.media-amazon.com/images/I/71CH1MwvxyL._AC_UY218_.jpg  CH1MwvxyL  \n",
       "18  https://m.media-amazon.com/images/I/61PE8tpvXhL._AC_UY218_.jpg  PE8tpvXhL  \n",
       "19  https://m.media-amazon.com/images/I/61+P0iEW26L._AC_UY218_.jpg  +P0iEW26L  \n",
       "20  https://m.media-amazon.com/images/I/411fmnSmNuL._AC_UY218_.jpg  1fmnSmNuL  "
      ]
     },
     "execution_count": 57,
     "metadata": {},
     "output_type": "execute_result"
    }
   ],
   "source": [
    "amadf.head(100)"
   ]
  }
 ],
 "metadata": {
  "kernelspec": {
   "display_name": "Python 3",
   "language": "python",
   "name": "python3"
  },
  "language_info": {
   "codemirror_mode": {
    "name": "ipython",
    "version": 3
   },
   "file_extension": ".py",
   "mimetype": "text/x-python",
   "name": "python",
   "nbconvert_exporter": "python",
   "pygments_lexer": "ipython3",
   "version": "3.7.6"
  }
 },
 "nbformat": 4,
 "nbformat_minor": 4
}
